{
 "cells": [
  {
   "cell_type": "markdown",
   "id": "f35e6c46-a541-468d-b038-e81d42203676",
   "metadata": {},
   "source": [
    "<b>1.9</b>"
   ]
  },
  {
   "cell_type": "markdown",
   "id": "7f7b5dc4-48f9-4c8c-864a-06005b97da48",
   "metadata": {},
   "source": [
    "How many seconds are there in 42 minutes 42 seconds?"
   ]
  },
  {
   "cell_type": "code",
   "execution_count": 11,
   "id": "b2378753-508e-4fb5-98ce-076d2e6041f2",
   "metadata": {},
   "outputs": [
    {
     "name": "stdout",
     "output_type": "stream",
     "text": [
      "2562\n"
     ]
    }
   ],
   "source": [
    "SECOND = 1\n",
    "MINUTE = SECOND * 60\n",
    "seconds = 42 * SECOND + (42 * MINUTE)\n",
    "print(seconds)"
   ]
  },
  {
   "cell_type": "markdown",
   "id": "5b4eccca-89f8-4296-bce1-92f500d2c43c",
   "metadata": {},
   "source": [
    "How many miles are there in 10 kilometers? Hint: there are 1.61 kilometers in a mile."
   ]
  },
  {
   "cell_type": "code",
   "execution_count": 9,
   "id": "2f92c1dc-4fee-4cdc-bff8-dce3f05a4bd7",
   "metadata": {},
   "outputs": [
    {
     "data": {
      "text/plain": [
       "1.61"
      ]
     },
     "execution_count": 9,
     "metadata": {},
     "output_type": "execute_result"
    }
   ],
   "source": [
    "# km = 1.61 * miles\n",
    "# miles = km * .6211\n",
    "\n",
    "km = 1.61\n",
    "km"
   ]
  },
  {
   "cell_type": "markdown",
   "id": "35a7b3e7-3dff-4c31-9a8d-263ff9cf5c50",
   "metadata": {},
   "source": [
    "If you run a 10 kilometer race in 42 minutes 42 seconds, what is your average pace (time per mile in minutes and seconds)? What is your average speed in miles per hour?"
   ]
  },
  {
   "cell_type": "code",
   "execution_count": 14,
   "id": "459c7ec2-ea0a-4d43-bd2b-324dcc7d5519",
   "metadata": {},
   "outputs": [
    {
     "data": {
      "text/plain": [
       "2562"
      ]
     },
     "execution_count": 14,
     "metadata": {},
     "output_type": "execute_result"
    }
   ],
   "source": [
    "seconds"
   ]
  }
 ],
 "metadata": {
  "kernelspec": {
   "display_name": "Python 3 (ipykernel)",
   "language": "python",
   "name": "python3"
  },
  "language_info": {
   "codemirror_mode": {
    "name": "ipython",
    "version": 3
   },
   "file_extension": ".py",
   "mimetype": "text/x-python",
   "name": "python",
   "nbconvert_exporter": "python",
   "pygments_lexer": "ipython3",
   "version": "3.9.12"
  }
 },
 "nbformat": 4,
 "nbformat_minor": 5
}
